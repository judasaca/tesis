{
 "cells": [
  {
   "cell_type": "code",
   "execution_count": 5,
   "metadata": {},
   "outputs": [],
   "source": [
    "import numpy as np\n",
    "import pandas as pd\n",
    "import matplotlib.pylab as plt\n",
    "import seaborn as sns\n",
    "sns.set_style(\"darkgrid\")\n",
    "plt.rcParams.update({\"font.size\":18,\n",
    "                    \"figure.figsize\":[17,8]})"
   ]
  },
  {
   "cell_type": "code",
   "execution_count": 62,
   "metadata": {},
   "outputs": [],
   "source": [
    "def load_data(filepath):\n",
    "    data=pd.read_csv(filepath)\n",
    "    data.columns=[\"TIME\",\"CH1\"]\n",
    "    data=data.iloc[13:]\n",
    "    return data.astype(float)"
   ]
  },
  {
   "cell_type": "code",
   "execution_count": 63,
   "metadata": {},
   "outputs": [
    {
     "name": "stdout",
     "output_type": "stream",
     "text": [
      "12\n"
     ]
    }
   ],
   "source": [
    "resistencias=[968,904,850,802,751,700,651,400,300,200,100,0]\n",
    "print(len(resistencias))"
   ]
  },
  {
   "cell_type": "code",
   "execution_count": 67,
   "metadata": {},
   "outputs": [
    {
     "name": "stdout",
     "output_type": "stream",
     "text": [
      "12\n"
     ]
    }
   ],
   "source": [
    "promedios=[]\n",
    "desviaciones=[]\n",
    "for i in range(0,10):\n",
    "    data=load_data(\"datos_caracterizacion_del_filtro_del_fotodiodo/tek000{}CH1.csv\".format(i))\n",
    "    promedios.append(data[\"CH1\"].mean())\n",
    "    desviaciones.append(data[\"CH1\"].std())\n",
    "for i in range(10,12):\n",
    "    data=load_data(\"datos_caracterizacion_del_filtro_del_fotodiodo/tek00{}CH1.csv\".format(i))\n",
    "    promedios.append(data[\"CH1\"].mean())\n",
    "    desviaciones.append(data[\"CH1\"].std())\n",
    "print(len(promedios))"
   ]
  },
  {
   "cell_type": "code",
   "execution_count": 68,
   "metadata": {},
   "outputs": [
    {
     "name": "stdout",
     "output_type": "stream",
     "text": [
      "[968, 904, 850, 802, 751, 700, 651, 400, 300, 200, 100, 0] [9.01516, 9.046864, 9.044683999999998, 9.05254, 9.067383999999999, 9.078935999999999, 9.085172, 9.154292, 9.17948, 9.198047999999998, 9.223679999999998, 9.251211999999999]\n"
     ]
    },
    {
     "data": {
      "text/plain": [
       "<matplotlib.collections.PathCollection at 0x7fefb19e6df0>"
      ]
     },
     "execution_count": 68,
     "metadata": {},
     "output_type": "execute_result"
    },
    {
     "data": {
      "image/png": "[encoded data removed]",
      "text/plain": [
       "<Figure size 1224x576 with 1 Axes>"
      ]
     },
     "metadata": {},
     "output_type": "display_data"
    }
   ],
   "source": [
    "plt.figure()\n",
    "print(resistencias,promedios)\n",
    "plt.scatter(resistencias, promedios)\n"
   ]
  },
  {
   "cell_type": "code",
   "execution_count": 69,
   "metadata": {},
   "outputs": [],
   "source": [
    "data=load_data(\"datos_caracterizacion_del_filtro_del_fotodiodo/tek0000CH1.csv\").astype(float)"
   ]
  },
  {
   "cell_type": "code",
   "execution_count": 39,
   "metadata": {},
   "outputs": [
    {
     "data": {
      "text/plain": [
       "9.01516"
      ]
     },
     "execution_count": 39,
     "metadata": {},
     "output_type": "execute_result"
    }
   ],
   "source": [
    "data[\"CH1\"].mean()"
   ]
  },
  {
   "cell_type": "code",
   "execution_count": null,
   "metadata": {},
   "outputs": [],
   "source": []
  }
 ],
 "metadata": {
  "kernelspec": {
   "display_name": "Python 3",
   "language": "python",
   "name": "python3"
  },
  "language_info": {
   "codemirror_mode": {
    "name": "ipython",
    "version": 3
   },
   "file_extension": ".py",
   "mimetype": "text/x-python",
   "name": "python",
   "nbconvert_exporter": "python",
   "pygments_lexer": "ipython3",
   "version": "3.8.10"
  }
 },
 "nbformat": 4,
 "nbformat_minor": 4
}
